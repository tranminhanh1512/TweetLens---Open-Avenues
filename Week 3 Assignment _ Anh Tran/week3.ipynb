{
 "cells": [
  {
   "cell_type": "code",
   "execution_count": null,
   "metadata": {},
   "outputs": [],
   "source": [
    "import tweepy\n",
    "import pandas as pd\n",
    "\n",
    "BEARER_TOKEN = \"\"\n",
    "\n",
    "client = tweepy.Client(bearer_token=BEARER_TOKEN, wait_on_rate_limit=True)"
   ]
  },
  {
   "cell_type": "code",
   "execution_count": 13,
   "metadata": {},
   "outputs": [
    {
     "name": "stdout",
     "output_type": "stream",
     "text": [
      "                  created_at  \\\n",
      "0  2025-03-31 14:30:14+00:00   \n",
      "1  2025-03-31 14:26:23+00:00   \n",
      "2  2025-03-31 13:54:21+00:00   \n",
      "3  2025-03-31 12:32:05+00:00   \n",
      "4  2025-03-31 12:04:20+00:00   \n",
      "..                       ...   \n",
      "75 2025-03-28 16:05:21+00:00   \n",
      "76 2025-03-28 16:03:06+00:00   \n",
      "77 2025-03-28 15:58:26+00:00   \n",
      "78 2025-03-28 15:36:02+00:00   \n",
      "79 2025-03-28 14:50:48+00:00   \n",
      "\n",
      "                                                 text  retweets  likes  \n",
      "0   @War4theWest @cvaviator Although I did agree o...         0      0  \n",
      "1   Can't believe the tech layoff wave is still ro...         0      0  \n",
      "2   @realDonaldTrump @elonmusk Presidents , have a...         0      0  \n",
      "3   IBM to lay off employees of U.S as hiring shif...         0      0  \n",
      "4   @War4theWest Meanwhile, tech companies here ca...         0      1  \n",
      "..                                                ...       ...    ...  \n",
      "75  Bay Area, California both lose thousands of jo...         0      0  \n",
      "76  Bay Area, California both lose thousands of jo...         0      0  \n",
      "77  RT @turnedanew: More buzzwords.. \"Decentralize...         2      0  \n",
      "78                            https://t.co/1tSLZI0Xlo         0      0  \n",
      "79  Layoffs erase more than 600 Bay Area tech, bio...         0      1  \n",
      "\n",
      "[80 rows x 4 columns]\n"
     ]
    }
   ],
   "source": [
    "def fetch_tweets(client, query, max_results=80): \n",
    "    tweets = [] \n",
    "    response = client.search_recent_tweets( \n",
    "        query=query, \n",
    "        tweet_fields=[\"created_at\", \"public_metrics\", \"author_id\", \"text\"], \n",
    "        max_results=max_results \n",
    "    ) \n",
    "    if response.data: \n",
    "        for tweet in response.data: \n",
    "            tweets.append({ \n",
    "                \"created_at\": tweet.created_at, \n",
    "                \"text\": tweet.text, \"retweets\": tweet.public_metrics['retweet_count'], \n",
    "                \"likes\": tweet.public_metrics['like_count'] \n",
    "            }) \n",
    "    return pd.DataFrame(tweets)\n",
    "\n",
    "query = \"Tech Layoff\"\n",
    "tweets_df = fetch_tweets(client, query, max_results=80)\n",
    "print(tweets_df)\n",
    "\n",
    "if tweets_df.empty:\n",
    "    print(\"No tweets found.\")"
   ]
  },
  {
   "cell_type": "code",
   "execution_count": 15,
   "metadata": {},
   "outputs": [
    {
     "name": "stdout",
     "output_type": "stream",
     "text": [
      "Last index in the file: 19\n",
      "New data appended starting from index 20.\n"
     ]
    }
   ],
   "source": [
    "file_path = 'tweets.csv'\n",
    "\n",
    "try:\n",
    "    existing_df = pd.read_csv(file_path, index_col=0)\n",
    "    \n",
    "    if existing_df.empty:\n",
    "        last_index = -1  \n",
    "    else:\n",
    "        last_index = existing_df.shape[0] - 1  \n",
    "except (FileNotFoundError, pd.errors.EmptyDataError):\n",
    "    last_index = -1  \n",
    "\n",
    "print(f\"Last index in the file: {last_index}\")\n",
    "\n",
    "tweets_df.index = range(last_index + 1, last_index + 1 + len(tweets_df))\n",
    "\n",
    "tweets_df.to_csv(file_path, mode='a', header=False)\n",
    "\n",
    "print(f\"New data appended starting from index {last_index + 1}.\")\n"
   ]
  },
  {
   "cell_type": "code",
   "execution_count": 1,
   "metadata": {},
   "outputs": [
    {
     "data": {
      "application/vnd.jupyter.widget-view+json": {
       "model_id": "e693012bbe2140ce878ef963d38cf180",
       "version_major": 2,
       "version_minor": 0
      },
      "text/plain": [
       "model.safetensors:   0%|          | 0.00/548M [00:00<?, ?B/s]"
      ]
     },
     "metadata": {},
     "output_type": "display_data"
    },
    {
     "name": "stderr",
     "output_type": "stream",
     "text": [
      "All PyTorch model weights were used when initializing TFGPT2LMHeadModel.\n",
      "\n",
      "All the weights of TFGPT2LMHeadModel were initialized from the PyTorch model.\n",
      "If your task is similar to the task the model of the checkpoint was trained on, you can already use TFGPT2LMHeadModel for predictions without further training.\n"
     ]
    },
    {
     "data": {
      "application/vnd.jupyter.widget-view+json": {
       "model_id": "088b8f3d7bec4d8dabbb110cd78ae80d",
       "version_major": 2,
       "version_minor": 0
      },
      "text/plain": [
       "tokenizer_config.json:   0%|          | 0.00/26.0 [00:00<?, ?B/s]"
      ]
     },
     "metadata": {},
     "output_type": "display_data"
    },
    {
     "data": {
      "application/vnd.jupyter.widget-view+json": {
       "model_id": "2cc96fc64d4e4ed5a010d358f6899e73",
       "version_major": 2,
       "version_minor": 0
      },
      "text/plain": [
       "vocab.json:   0%|          | 0.00/1.04M [00:00<?, ?B/s]"
      ]
     },
     "metadata": {},
     "output_type": "display_data"
    },
    {
     "data": {
      "application/vnd.jupyter.widget-view+json": {
       "model_id": "45b33e2dfa32483f81733f016ad6a26a",
       "version_major": 2,
       "version_minor": 0
      },
      "text/plain": [
       "merges.txt:   0%|          | 0.00/456k [00:00<?, ?B/s]"
      ]
     },
     "metadata": {},
     "output_type": "display_data"
    },
    {
     "data": {
      "application/vnd.jupyter.widget-view+json": {
       "model_id": "a3d67d3857e641f98c1053a01fcd5822",
       "version_major": 2,
       "version_minor": 0
      },
      "text/plain": [
       "tokenizer.json:   0%|          | 0.00/1.36M [00:00<?, ?B/s]"
      ]
     },
     "metadata": {},
     "output_type": "display_data"
    },
    {
     "name": "stderr",
     "output_type": "stream",
     "text": [
      "Device set to use 0\n",
      "Truncation was not explicitly activated but `max_length` is provided a specific value, please use `truncation=True` to explicitly truncate examples to max length. Defaulting to 'longest_first' truncation strategy. If you encode pairs of sequences (GLUE-style) with the tokenizer you can select this strategy more precisely by providing a specific strategy to `truncation`.\n"
     ]
    },
    {
     "name": "stdout",
     "output_type": "stream",
     "text": [
      "Generate a tweet about tech layoff in Washington\n",
      "\n",
      "Sens. Rand Paul and Dianne Feinstein will both announce Tuesday that a $100,000 pay cut to the federal workforce may be in the works to give the public more information about the federal\n",
      "Generate a tweet about tech layoff.\n",
      "\n",
      "Twitter started to offer \"reinforces,\" which are paid incentives for companies to make improvements to their products. Last year, Apple announced it would extend a paid retention program — this time, it\n",
      "Generate a tweet about tech layoff as Trump tweets It looks like a lot of companies are keeping the number of employees up below target range. @nytimes: I'm sure every American has an interest in jobs, but not all. — Mark\n",
      "Generate a tweet about tech layoff\n",
      "\n",
      "The Silicon Valley tech titan announced Friday morning he will be leaving in the end; the company's new chief executive officer, Scott Weintraub, is scheduled to leave as CEO in the second quarter\n",
      "Generate a tweet about tech layoff at 1:30am ET on Sunday, March 13, 2017. You can check back in with @TechCrunchCrunch for live updates before tomorrow's live-streamers drop off: https://t.co\n",
      "Generate a tweet about tech layoff for 10 months (Tech.com)\n",
      "\n",
      "A lot of companies are moving off of iPhones. They are thinking about replacing them by replacing servers, and I can see this moving forward. There is also a\n",
      "Generate a tweet about tech layoff in a specific timeframe.\n",
      "\n",
      "The following three topics — technology, unemployment, and the Internet of Things — should be addressed:\n",
      "\n",
      "Technology unemployment\n",
      "\n",
      "\n",
      "Trying to convince your audience that hiring will happen\n",
      "Generate a tweet about tech layoff at @TheFix and retweet it up, and go back to Twitter or Facebook and tweet @TheFix again. This time, he retweeted the one tweet that was deleted.\n",
      "\n",
      "\"I think you\n",
      "Generate a tweet about tech layoff\n",
      "\n",
      "https://plus.google.com/10265824674622273360/posts/1K3tJ6VxKZqY-ZV3k5X\n",
      "Generate a tweet about tech layoff victims.\n",
      "\n",
      "Sandy: Thanks for letting me know your support of me is growing. When you came out, I was working with a number of top people in tech who are out and making a difference\n",
      "Generate a tweet about tech layoff #TechDisrupt — Apple News (@AppleNews) March 22, 2016\n",
      "\n",
      "This is good news because we could get a second chance. The biggest story right now is Apple's massive stock price drop as\n",
      "Generate a tweet about tech layoff, the president's website says. He's getting a lot of attention, apparently.\n",
      "\n",
      "\"One thing I would've said to the President and I just would've been doing was to say that he's\n",
      "Generate a tweet about tech layoff http://t.co/6tP0zEXN6E — Adam Smith (@TheAdamSmith) September 27, 2013\n",
      "\n",
      "This is not a joke, because it can actually be dangerous\n",
      "Generate a tweet about tech layoff and demand for new talent.\n",
      "\n",
      "The team started with an idea of getting a lot of people from tech companies to attend our events. Our original idea was that the students who were attending those events could help\n",
      "Generate a tweet about tech layoff, and your family is going down the tubes\n",
      "\n",
      "When a tech worker in the workforce is fired for using his or her job site on social media (particularly for making news), these workers are likely to be\n",
      "Generate a tweet about tech layoff\n",
      "\n",
      "In all, about 13,000 people were laid off following news of the layoffs. The number has not yet been determined.\n",
      "\n",
      "It's unclear how many of those affected by the closure will receive\n",
      "Generate a tweet about tech layoff (and its impact on your business) here. https://t.co/2JWG8fB2S8 pic.twitter.com/8jTpJ3y3WJ\n",
      "Generate a tweet about tech layoff\n",
      "\n",
      "\n",
      "This isn't actually a news release, it's a press release. Not even one, but an email from me that has some kind of message about the layoffs, which we have been trying hard to\n",
      "Generate a tweet about tech layoff\n",
      "\n",
      "\n",
      "On Sunday morning the Apple CEO sent out a press release calling on everyone involved to call all of the tech companies on the internet and send a tweet asking for a new CEO that would take a leadership role\n",
      "Generate a tweet about tech layoff, including one from @DGreece and one from Italy. #tweetme pic.twitter.com/3jTv2R6tOe — Andrew O'Hara (@O\n"
     ]
    }
   ],
   "source": [
    "from transformers import pipeline\n",
    "\n",
    "generator = pipeline(\"text-generation\", model = \"gpt2\")\n",
    "\n",
    "def generate_tweets(prompt, num_tweets = 5):\n",
    "    return generator(prompt, max_length = 50, num_return_sequences = num_tweets)\n",
    "\n",
    "prompt = \"Generate a tweet about tech layoff\"\n",
    "\n",
    "synthetic_tweets = generate_tweets(prompt, 20)\n",
    "\n",
    "for tweet in synthetic_tweets:\n",
    "    print(tweet['generated_text'])"
   ]
  }
 ],
 "metadata": {
  "kernelspec": {
   "display_name": "base",
   "language": "python",
   "name": "python3"
  },
  "language_info": {
   "codemirror_mode": {
    "name": "ipython",
    "version": 3
   },
   "file_extension": ".py",
   "mimetype": "text/x-python",
   "name": "python",
   "nbconvert_exporter": "python",
   "pygments_lexer": "ipython3",
   "version": "3.12.4"
  }
 },
 "nbformat": 4,
 "nbformat_minor": 2
}
