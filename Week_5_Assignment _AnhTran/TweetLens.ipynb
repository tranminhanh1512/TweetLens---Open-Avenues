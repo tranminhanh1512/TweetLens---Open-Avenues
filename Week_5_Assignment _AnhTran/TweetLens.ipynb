{
 "cells": [
  {
   "cell_type": "markdown",
   "id": "5f8ff7dc",
   "metadata": {},
   "source": [
    "# TweetLens: Tech Layoff"
   ]
  },
  {
   "cell_type": "markdown",
   "id": "5dc2a1e8",
   "metadata": {},
   "source": [
    "Since late 2022, the tech industry has experienced a significant wave of layoffs affecting companies of all sizes across the globe. Tech giants including Meta, Amazon, Microsoft, Google, and numerous startups have announced substantial workforce reductions, with hundreds of thousands of tech workers losing their jobs. These layoffs have occurred against a backdrop of economic uncertainty, post-pandemic market corrections, and strategic pivots within the industry.\n",
    "\n",
    "The widespread nature of these layoffs has sparked intense discussion on social media platforms, particularly Twitter, where affected employees, industry observers, executives, and the general public share their experiences, opinions, and emotional responses. These conversations provide valuable insights into how people perceive and process these industry shifts.\n",
    "\n",
    "In this notebook, we'll explore:\n",
    "1. How people feel about tech layoff in general\n",
    "2. What specific emotions dominate the conversation\n",
    "3. How sentiment has evolved over time as layoffs have continued"
   ]
  },
  {
   "cell_type": "markdown",
   "id": "03e29a2d",
   "metadata": {},
   "source": [
    "## 1. Fetching tweets from Twitter API"
   ]
  },
  {
   "cell_type": "markdown",
   "id": "4155cf1e",
   "metadata": {},
   "source": [
    "To begin, I'll fetch the tweets from Twitter API and save it to a csv file"
   ]
  },
  {
   "cell_type": "code",
   "execution_count": null,
   "id": "06d5b461",
   "metadata": {},
   "outputs": [],
   "source": [
    "import tweepy\n",
    "import pandas as pd\n",
    "\n",
    "BEARER_TOKEN = \"\"\n",
    "\n",
    "client = tweepy.Client(bearer_token=BEARER_TOKEN, wait_on_rate_limit=True)\n",
    "\n",
    "def fetch_tweets(client, query, max_results=100): \n",
    "    tweets = [] \n",
    "    response = client.search_recent_tweets( \n",
    "        query=query, \n",
    "        tweet_fields=[\"created_at\", \"public_metrics\", \"author_id\", \"text\"], \n",
    "        max_results=max_results \n",
    "    ) \n",
    "    if response.data: \n",
    "        for tweet in response.data: \n",
    "            tweets.append({ \n",
    "                \"created_at\": tweet.created_at, \n",
    "                \"text\": tweet.text, \"retweets\": tweet.public_metrics['retweet_count'], \n",
    "                \"likes\": tweet.public_metrics['like_count'] \n",
    "            }) \n",
    "    return pd.DataFrame(tweets)\n",
    "\n",
    "query = \"Tech Layoff\"\n",
    "tweets_df = fetch_tweets(client, query, max_results=80)\n",
    "print(tweets_df)\n",
    "\n",
    "if tweets_df.empty:\n",
    "    print(\"No tweets found.\")"
   ]
  },
  {
   "cell_type": "code",
   "execution_count": null,
   "id": "511e17a6",
   "metadata": {},
   "outputs": [],
   "source": [
    "file_path = 'tweets.csv'\n",
    "\n",
    "try:\n",
    "    existing_df = pd.read_csv(file_path, index_col=0)\n",
    "    \n",
    "    if existing_df.empty:\n",
    "        last_index = -1  \n",
    "    else:\n",
    "        last_index = existing_df.shape[0] - 1  \n",
    "except (FileNotFoundError, pd.errors.EmptyDataError):\n",
    "    last_index = -1  \n",
    "\n",
    "print(f\"Last index in the file: {last_index}\")\n",
    "\n",
    "tweets_df.index = range(last_index + 1, last_index + 1 + len(tweets_df))\n",
    "\n",
    "tweets_df.to_csv(file_path, mode='a', header=False)\n",
    "\n",
    "print(f\"New data appended starting from index {last_index + 1}.\")\n"
   ]
  },
  {
   "cell_type": "markdown",
   "id": "249f6a40",
   "metadata": {},
   "source": [
    "Here is our tweets that we just fetched!"
   ]
  },
  {
   "cell_type": "code",
   "execution_count": null,
   "id": "789dff32",
   "metadata": {},
   "outputs": [],
   "source": []
  }
 ],
 "metadata": {
  "kernelspec": {
   "display_name": "base",
   "language": "python",
   "name": "python3"
  },
  "language_info": {
   "name": "python",
   "version": "3.12.4"
  }
 },
 "nbformat": 4,
 "nbformat_minor": 5
}
